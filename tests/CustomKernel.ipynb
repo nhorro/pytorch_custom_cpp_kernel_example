{
 "cells": [
  {
   "cell_type": "code",
   "execution_count": 1,
   "id": "66385e0a-6cf2-4edb-a96d-007b0391446c",
   "metadata": {
    "tags": []
   },
   "outputs": [
    {
     "name": "stdout",
     "output_type": "stream",
     "text": [
      "Received reply: {\"data\":[5.0,7.0,9.0],\"size\":[3]}\n",
      " 5\n",
      " 7\n",
      " 9\n",
      "[ CPUFloatType{3} ]\n",
      "tensor([5., 7., 9.])\n"
     ]
    }
   ],
   "source": [
    "%load_ext autoreload\n",
    "%autoreload 2\n",
    "\n",
    "import torch\n",
    "import custom_kernel_cpp\n",
    "\n",
    "# Usage example\n",
    "a = torch.tensor([1.0, 2.0, 3.0])\n",
    "b = torch.tensor([4.0, 5.0, 6.0])\n",
    "result = custom_kernel_cpp.custom_kernel(a, b)\n",
    "print(result)"
   ]
  }
 ],
 "metadata": {
  "kernelspec": {
   "display_name": "Python 3 (ipykernel)",
   "language": "python",
   "name": "python3"
  },
  "language_info": {
   "codemirror_mode": {
    "name": "ipython",
    "version": 3
   },
   "file_extension": ".py",
   "mimetype": "text/x-python",
   "name": "python",
   "nbconvert_exporter": "python",
   "pygments_lexer": "ipython3",
   "version": "3.11.5"
  }
 },
 "nbformat": 4,
 "nbformat_minor": 5
}
